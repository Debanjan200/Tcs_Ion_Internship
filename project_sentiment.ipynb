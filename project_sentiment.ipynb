{
 "cells": [
  {
   "cell_type": "code",
   "execution_count": 1,
   "metadata": {},
   "outputs": [],
   "source": [
    "import numpy as np\n",
    "import pandas as pd"
   ]
  },
  {
   "cell_type": "code",
   "execution_count": 24,
   "metadata": {},
   "outputs": [],
   "source": [
    "train_data=pd.read_csv(\"train.txt\",names=[\"text\",\"labels\"],header=None,sep=\";\")\n",
    "test_data=pd.read_csv(\"test.txt\",names=[\"text\",\"labels\"],header=None,sep=\";\")\n",
    "valid_data=pd.read_csv(\"val.txt\",names=[\"text\",\"labels\"],header=None,sep=\";\")\n",
    "data=pd.concat([train_data,test_data,valid_data]).reset_index(drop=True)\n",
    "data.to_csv(\"emotion_data.csv\",index=False)"
   ]
  },
  {
   "cell_type": "code",
   "execution_count": 25,
   "metadata": {},
   "outputs": [
    {
     "data": {
      "text/html": [
       "<div>\n",
       "<style scoped>\n",
       "    .dataframe tbody tr th:only-of-type {\n",
       "        vertical-align: middle;\n",
       "    }\n",
       "\n",
       "    .dataframe tbody tr th {\n",
       "        vertical-align: top;\n",
       "    }\n",
       "\n",
       "    .dataframe thead th {\n",
       "        text-align: right;\n",
       "    }\n",
       "</style>\n",
       "<table border=\"1\" class=\"dataframe\">\n",
       "  <thead>\n",
       "    <tr style=\"text-align: right;\">\n",
       "      <th></th>\n",
       "      <th>text</th>\n",
       "      <th>labels</th>\n",
       "    </tr>\n",
       "  </thead>\n",
       "  <tbody>\n",
       "    <tr>\n",
       "      <th>0</th>\n",
       "      <td>i didnt feel humiliated</td>\n",
       "      <td>sadness</td>\n",
       "    </tr>\n",
       "    <tr>\n",
       "      <th>1</th>\n",
       "      <td>i can go from feeling so hopeless to so damned...</td>\n",
       "      <td>sadness</td>\n",
       "    </tr>\n",
       "    <tr>\n",
       "      <th>2</th>\n",
       "      <td>im grabbing a minute to post i feel greedy wrong</td>\n",
       "      <td>anger</td>\n",
       "    </tr>\n",
       "  </tbody>\n",
       "</table>\n",
       "</div>"
      ],
      "text/plain": [
       "                                                text   labels\n",
       "0                            i didnt feel humiliated  sadness\n",
       "1  i can go from feeling so hopeless to so damned...  sadness\n",
       "2   im grabbing a minute to post i feel greedy wrong    anger"
      ]
     },
     "execution_count": 25,
     "metadata": {},
     "output_type": "execute_result"
    }
   ],
   "source": [
    "data.head(3)"
   ]
  },
  {
   "cell_type": "code",
   "execution_count": 26,
   "metadata": {},
   "outputs": [
    {
     "data": {
      "text/plain": [
       "array(['sadness', 'anger', 'love', 'surprise', 'fear', 'joy'],\n",
       "      dtype=object)"
      ]
     },
     "execution_count": 26,
     "metadata": {},
     "output_type": "execute_result"
    }
   ],
   "source": [
    "data[\"labels\"].unique()"
   ]
  },
  {
   "cell_type": "code",
   "execution_count": 27,
   "metadata": {},
   "outputs": [],
   "source": [
    "from sklearn.preprocessing import LabelEncoder\n",
    "encoder=LabelEncoder()\n",
    "data[\"labels\"]=encoder.fit_transform(data[\"labels\"].values)"
   ]
  },
  {
   "cell_type": "code",
   "execution_count": 28,
   "metadata": {},
   "outputs": [
    {
     "data": {
      "text/html": [
       "<div>\n",
       "<style scoped>\n",
       "    .dataframe tbody tr th:only-of-type {\n",
       "        vertical-align: middle;\n",
       "    }\n",
       "\n",
       "    .dataframe tbody tr th {\n",
       "        vertical-align: top;\n",
       "    }\n",
       "\n",
       "    .dataframe thead th {\n",
       "        text-align: right;\n",
       "    }\n",
       "</style>\n",
       "<table border=\"1\" class=\"dataframe\">\n",
       "  <thead>\n",
       "    <tr style=\"text-align: right;\">\n",
       "      <th></th>\n",
       "      <th>text</th>\n",
       "      <th>labels</th>\n",
       "    </tr>\n",
       "  </thead>\n",
       "  <tbody>\n",
       "    <tr>\n",
       "      <th>0</th>\n",
       "      <td>i didnt feel humiliated</td>\n",
       "      <td>4</td>\n",
       "    </tr>\n",
       "    <tr>\n",
       "      <th>1</th>\n",
       "      <td>i can go from feeling so hopeless to so damned...</td>\n",
       "      <td>4</td>\n",
       "    </tr>\n",
       "    <tr>\n",
       "      <th>2</th>\n",
       "      <td>im grabbing a minute to post i feel greedy wrong</td>\n",
       "      <td>0</td>\n",
       "    </tr>\n",
       "  </tbody>\n",
       "</table>\n",
       "</div>"
      ],
      "text/plain": [
       "                                                text  labels\n",
       "0                            i didnt feel humiliated       4\n",
       "1  i can go from feeling so hopeless to so damned...       4\n",
       "2   im grabbing a minute to post i feel greedy wrong       0"
      ]
     },
     "execution_count": 28,
     "metadata": {},
     "output_type": "execute_result"
    }
   ],
   "source": [
    "data.head(3)"
   ]
  },
  {
   "cell_type": "code",
   "execution_count": 29,
   "metadata": {},
   "outputs": [],
   "source": [
    "import re\n",
    "from nltk.corpus import stopwords\n",
    "from nltk.stem.porter import PorterStemmer"
   ]
  },
  {
   "cell_type": "code",
   "execution_count": 30,
   "metadata": {},
   "outputs": [],
   "source": [
    "corpus=[]\n",
    "all_stopwords=stopwords.words(\"english\")\n",
    "all_stopwords.remove(\"not\")\n",
    "ps=PorterStemmer()\n",
    "\n",
    "for i in range(len(data)):\n",
    "    emotion=re.sub(\"[^a-zA-Z]\",\" \",data[\"text\"][i])\n",
    "    emotion=emotion.lower()\n",
    "    emotion=emotion.split()\n",
    "    emotion=[ps.stem(word) for word in emotion if not word in set(all_stopwords)]\n",
    "    emotion=' '.join(emotion)\n",
    "    corpus.append(emotion)"
   ]
  },
  {
   "cell_type": "code",
   "execution_count": 32,
   "metadata": {},
   "outputs": [],
   "source": [
    "from sklearn.feature_extraction.text import CountVectorizer\n",
    "cv=CountVectorizer(max_features=5000)\n",
    "x=cv.fit_transform(corpus).toarray()\n",
    "y=data[\"labels\"].values"
   ]
  },
  {
   "cell_type": "code",
   "execution_count": 33,
   "metadata": {},
   "outputs": [
    {
     "data": {
      "text/plain": [
       "(20000, 5000)"
      ]
     },
     "execution_count": 33,
     "metadata": {},
     "output_type": "execute_result"
    }
   ],
   "source": [
    "x.shape"
   ]
  },
  {
   "cell_type": "code",
   "execution_count": 34,
   "metadata": {},
   "outputs": [
    {
     "data": {
      "text/plain": [
       "(20000,)"
      ]
     },
     "execution_count": 34,
     "metadata": {},
     "output_type": "execute_result"
    }
   ],
   "source": [
    "y.shape"
   ]
  },
  {
   "cell_type": "code",
   "execution_count": 47,
   "metadata": {},
   "outputs": [],
   "source": [
    "from sklearn.model_selection import train_test_split\n",
    "x_train,x_test,y_train,y_test=train_test_split(x,y,test_size=0.1,random_state=42)"
   ]
  },
  {
   "cell_type": "code",
   "execution_count": 87,
   "metadata": {},
   "outputs": [
    {
     "name": "stdout",
     "output_type": "stream",
     "text": [
      "Train Shape: (18000, 5000)\n",
      "Test Shape: (2000, 5000)\n"
     ]
    }
   ],
   "source": [
    "print(f\"Train Shape: {x_train.shape}\\nTest Shape: {x_test.shape}\")"
   ]
  },
  {
   "cell_type": "code",
   "execution_count": 37,
   "metadata": {},
   "outputs": [],
   "source": [
    "from keras.models import Sequential\n",
    "from keras.layers import Dense\n",
    "from tensorflow.keras.utils import to_categorical"
   ]
  },
  {
   "cell_type": "code",
   "execution_count": 48,
   "metadata": {},
   "outputs": [],
   "source": [
    "y_train=to_categorical(y_train)\n",
    "y_test=to_categorical(y_test)"
   ]
  },
  {
   "cell_type": "code",
   "execution_count": 52,
   "metadata": {},
   "outputs": [],
   "source": [
    "model=Sequential()\n",
    "model.add(Dense(units=300,activation=\"relu\",input_shape=(5000,)))\n",
    "model.add(Dense(units=300,activation=\"relu\"))\n",
    "model.add(Dense(units=100,activation=\"relu\"))\n",
    "model.add(Dense(units=len(encoder.classes_),activation=\"softmax\"))"
   ]
  },
  {
   "cell_type": "code",
   "execution_count": 53,
   "metadata": {},
   "outputs": [
    {
     "name": "stdout",
     "output_type": "stream",
     "text": [
      "Epoch 1/20\n",
      "282/282 [==============================] - 7s 14ms/step - loss: 0.7989 - accuracy: 0.7177 - val_loss: 0.4255 - val_accuracy: 0.8555\n",
      "Epoch 2/20\n",
      "282/282 [==============================] - 4s 13ms/step - loss: 0.2191 - accuracy: 0.9218 - val_loss: 0.4265 - val_accuracy: 0.8635\n",
      "Epoch 3/20\n",
      "282/282 [==============================] - 3s 12ms/step - loss: 0.0994 - accuracy: 0.9658 - val_loss: 0.5249 - val_accuracy: 0.8590\n",
      "Epoch 4/20\n",
      "282/282 [==============================] - 4s 12ms/step - loss: 0.0538 - accuracy: 0.9810 - val_loss: 0.6456 - val_accuracy: 0.8440\n",
      "Epoch 5/20\n",
      "282/282 [==============================] - 4s 12ms/step - loss: 0.0332 - accuracy: 0.9883 - val_loss: 0.7150 - val_accuracy: 0.8380\n",
      "Epoch 6/20\n",
      "282/282 [==============================] - 4s 13ms/step - loss: 0.0271 - accuracy: 0.9906 - val_loss: 0.7642 - val_accuracy: 0.8485\n",
      "Epoch 7/20\n",
      "282/282 [==============================] - 4s 13ms/step - loss: 0.0203 - accuracy: 0.9928 - val_loss: 0.8370 - val_accuracy: 0.8465\n",
      "Epoch 8/20\n",
      "282/282 [==============================] - 3s 12ms/step - loss: 0.0158 - accuracy: 0.9941 - val_loss: 0.9387 - val_accuracy: 0.8455\n",
      "Epoch 9/20\n",
      "282/282 [==============================] - 3s 12ms/step - loss: 0.0182 - accuracy: 0.9931 - val_loss: 0.9719 - val_accuracy: 0.8395\n",
      "Epoch 10/20\n",
      "282/282 [==============================] - 4s 13ms/step - loss: 0.0245 - accuracy: 0.9907 - val_loss: 0.9553 - val_accuracy: 0.8370\n",
      "Epoch 11/20\n",
      "282/282 [==============================] - 5s 16ms/step - loss: 0.0195 - accuracy: 0.9919 - val_loss: 1.0053 - val_accuracy: 0.8315\n",
      "Epoch 12/20\n",
      "282/282 [==============================] - 4s 13ms/step - loss: 0.0275 - accuracy: 0.9889 - val_loss: 1.0614 - val_accuracy: 0.8410\n",
      "Epoch 13/20\n",
      "282/282 [==============================] - 5s 16ms/step - loss: 0.0213 - accuracy: 0.9908 - val_loss: 1.0304 - val_accuracy: 0.8435\n",
      "Epoch 14/20\n",
      "282/282 [==============================] - 4s 14ms/step - loss: 0.0137 - accuracy: 0.9941 - val_loss: 1.0721 - val_accuracy: 0.8375\n",
      "Epoch 15/20\n",
      "282/282 [==============================] - 4s 13ms/step - loss: 0.0096 - accuracy: 0.9954 - val_loss: 1.1372 - val_accuracy: 0.8430\n",
      "Epoch 16/20\n",
      "282/282 [==============================] - 3s 12ms/step - loss: 0.0076 - accuracy: 0.9962 - val_loss: 1.1588 - val_accuracy: 0.8435\n",
      "Epoch 17/20\n",
      "282/282 [==============================] - 4s 13ms/step - loss: 0.0073 - accuracy: 0.9958 - val_loss: 1.1827 - val_accuracy: 0.8380\n",
      "Epoch 18/20\n",
      "282/282 [==============================] - 4s 13ms/step - loss: 0.0067 - accuracy: 0.9958 - val_loss: 1.1690 - val_accuracy: 0.8420\n",
      "Epoch 19/20\n",
      "282/282 [==============================] - 4s 14ms/step - loss: 0.0066 - accuracy: 0.9959 - val_loss: 1.2129 - val_accuracy: 0.8460\n",
      "Epoch 20/20\n",
      "282/282 [==============================] - 5s 17ms/step - loss: 0.0065 - accuracy: 0.9961 - val_loss: 1.1825 - val_accuracy: 0.8415\n"
     ]
    },
    {
     "data": {
      "text/plain": [
       "<keras.callbacks.History at 0x1f88ead4280>"
      ]
     },
     "execution_count": 53,
     "metadata": {},
     "output_type": "execute_result"
    }
   ],
   "source": [
    "model.compile(optimizer=\"adam\",loss=\"categorical_crossentropy\",metrics=[\"accuracy\"])\n",
    "model.fit(x_train,y_train,validation_data=(x_test,y_test),epochs=20,batch_size=64)"
   ]
  },
  {
   "cell_type": "code",
   "execution_count": 98,
   "metadata": {},
   "outputs": [
    {
     "name": "stdout",
     "output_type": "stream",
     "text": [
      "Model: \"sequential\"\n",
      "_________________________________________________________________\n",
      "Layer (type)                 Output Shape              Param #   \n",
      "=================================================================\n",
      "dense (Dense)                (None, 300)               1500300   \n",
      "_________________________________________________________________\n",
      "dense_1 (Dense)              (None, 300)               90300     \n",
      "_________________________________________________________________\n",
      "dense_2 (Dense)              (None, 100)               30100     \n",
      "_________________________________________________________________\n",
      "dense_3 (Dense)              (None, 6)                 606       \n",
      "=================================================================\n",
      "Total params: 1,621,306\n",
      "Trainable params: 1,621,306\n",
      "Non-trainable params: 0\n",
      "_________________________________________________________________\n"
     ]
    }
   ],
   "source": [
    "model.summary()"
   ]
  },
  {
   "cell_type": "markdown",
   "metadata": {},
   "source": [
    "## Testing Data"
   ]
  },
  {
   "cell_type": "code",
   "execution_count": 63,
   "metadata": {},
   "outputs": [],
   "source": [
    "test=[]\n",
    "valid=[]\n",
    "predict=model.predict(x_test)\n",
    "\n",
    "for i in range(len(predict)):\n",
    "    test.append(np.argmax(predict[i]))\n",
    "    valid.append(np.argmax(y_test[i]))\n",
    "\n",
    "test=np.array(test)\n",
    "valid=np.array(valid)"
   ]
  },
  {
   "cell_type": "code",
   "execution_count": 65,
   "metadata": {},
   "outputs": [
    {
     "data": {
      "text/plain": [
       "84.15"
      ]
     },
     "execution_count": 65,
     "metadata": {},
     "output_type": "execute_result"
    }
   ],
   "source": [
    "from sklearn.metrics import accuracy_score\n",
    "accuracy_score(valid,test)*100"
   ]
  },
  {
   "cell_type": "code",
   "execution_count": 67,
   "metadata": {},
   "outputs": [],
   "source": [
    "def text_extract(data):\n",
    "    corpus=[]\n",
    "    sentiment=re.sub(\"[^a-zA-Z]\",\" \",data)\n",
    "    sentiment=sentiment.lower()\n",
    "    sentiment=sentiment.split()\n",
    "    ps=PorterStemmer()\n",
    "    all_stopwords=stopwords.words(\"english\")\n",
    "    all_stopwords.remove(\"not\")\n",
    "    sentiment=[ps.stem(word) for word in sentiment if not word in set(all_stopwords)]\n",
    "    sentiment=' '.join(sentiment)\n",
    "    corpus.append(sentiment)\n",
    "    return corpus"
   ]
  },
  {
   "cell_type": "code",
   "execution_count": 73,
   "metadata": {},
   "outputs": [],
   "source": [
    "def testing_data(data):\n",
    "    t=text_extract(data)\n",
    "    t=cv.transform(t).toarray()\n",
    "    pred=encoder.inverse_transform([np.argmax(model.predict(t))])\n",
    "    return pred[0]"
   ]
  },
  {
   "cell_type": "markdown",
   "metadata": {},
   "source": [
    "## Test1"
   ]
  },
  {
   "cell_type": "code",
   "execution_count": 74,
   "metadata": {},
   "outputs": [
    {
     "data": {
      "text/plain": [
       "'sadness'"
      ]
     },
     "execution_count": 74,
     "metadata": {},
     "output_type": "execute_result"
    }
   ],
   "source": [
    "test=\"i can go from feeling so hopeless to so damned hopeful just from being around someone who cares and is awake\"\n",
    "testing_data(test)"
   ]
  },
  {
   "cell_type": "markdown",
   "metadata": {},
   "source": [
    "## Test2"
   ]
  },
  {
   "cell_type": "code",
   "execution_count": 75,
   "metadata": {},
   "outputs": [
    {
     "data": {
      "text/plain": [
       "'anger'"
      ]
     },
     "execution_count": 75,
     "metadata": {},
     "output_type": "execute_result"
    }
   ],
   "source": [
    "test=\"im grabbing a minute to post i feel greedy wrong\"\n",
    "testing_data(test)"
   ]
  },
  {
   "cell_type": "markdown",
   "metadata": {},
   "source": [
    "## Test3"
   ]
  },
  {
   "cell_type": "code",
   "execution_count": 78,
   "metadata": {},
   "outputs": [
    {
     "data": {
      "text/plain": [
       "'joy'"
      ]
     },
     "execution_count": 78,
     "metadata": {},
     "output_type": "execute_result"
    }
   ],
   "source": [
    "test=\"i do not feel reassured anxiety is on each side\"\n",
    "testing_data(test)"
   ]
  },
  {
   "cell_type": "markdown",
   "metadata": {},
   "source": [
    "## Test4"
   ]
  },
  {
   "cell_type": "code",
   "execution_count": 77,
   "metadata": {},
   "outputs": [
    {
     "data": {
      "text/plain": [
       "'love'"
      ]
     },
     "execution_count": 77,
     "metadata": {},
     "output_type": "execute_result"
    }
   ],
   "source": [
    "test=\"i feel romantic too\"\n",
    "testing_data(test)"
   ]
  },
  {
   "cell_type": "markdown",
   "metadata": {},
   "source": [
    "## Test5"
   ]
  },
  {
   "cell_type": "code",
   "execution_count": 79,
   "metadata": {},
   "outputs": [
    {
     "data": {
      "text/plain": [
       "'surprise'"
      ]
     },
     "execution_count": 79,
     "metadata": {},
     "output_type": "execute_result"
    }
   ],
   "source": [
    "test=\"i am now nearly finished the week detox and i feel amazing\"\n",
    "testing_data(test)"
   ]
  },
  {
   "cell_type": "markdown",
   "metadata": {},
   "source": [
    "## Test6"
   ]
  },
  {
   "cell_type": "code",
   "execution_count": 81,
   "metadata": {},
   "outputs": [
    {
     "data": {
      "text/plain": [
       "'fear'"
      ]
     },
     "execution_count": 81,
     "metadata": {},
     "output_type": "execute_result"
    }
   ],
   "source": [
    "test=\"i had stated to her the reason i feel so fearful is because i feel unsafe\"\n",
    "testing_data(test)"
   ]
  },
  {
   "cell_type": "code",
   "execution_count": null,
   "metadata": {},
   "outputs": [],
   "source": []
  }
 ],
 "metadata": {
  "interpreter": {
   "hash": "247ab06e135bb35fa78c5eff31b2a9a0050dcb5fb773c2631d2a29ac689eeccb"
  },
  "kernelspec": {
   "display_name": "Python 3.9.7 64-bit",
   "language": "python",
   "name": "python3"
  },
  "language_info": {
   "codemirror_mode": {
    "name": "ipython",
    "version": 3
   },
   "file_extension": ".py",
   "mimetype": "text/x-python",
   "name": "python",
   "nbconvert_exporter": "python",
   "pygments_lexer": "ipython3",
   "version": "3.9.7"
  },
  "orig_nbformat": 4
 },
 "nbformat": 4,
 "nbformat_minor": 2
}
